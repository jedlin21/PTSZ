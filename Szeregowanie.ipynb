{
 "cells": [
  {
   "cell_type": "code",
   "execution_count": 1,
   "metadata": {},
   "outputs": [],
   "source": [
    "import numpy as np"
   ]
  },
  {
   "cell_type": "code",
   "execution_count": 2,
   "metadata": {},
   "outputs": [],
   "source": [
    "n = [50, 100, 150, 200, 250, 300, 350, 400, 450, 500]"
   ]
  },
  {
   "cell_type": "code",
   "execution_count": 3,
   "metadata": {},
   "outputs": [],
   "source": [
    "# p - persistance\n",
    "# r - ready time\n",
    "# d - oczekiwany termin zakończenia\n",
    "# w - weight\n",
    "# Cj oznacza moment zakończenia wykonywania zadania Jj w uszeregowaniu\n",
    "\n",
    "# p r d w\n",
    "# r  >= c - p"
   ]
  },
  {
   "cell_type": "markdown",
   "metadata": {},
   "source": [
    "# Generate"
   ]
  },
  {
   "cell_type": "code",
   "execution_count": 50,
   "metadata": {},
   "outputs": [],
   "source": [
    "for x in n:\n",
    "    time = 0\n",
    "    fileData = []\n",
    "    fileData.append(x)\n",
    "    for _ in range(x):\n",
    "        p = np.random.randint(1, 10)\n",
    "        r = np.random.randint(time - 5 if time - 5 > 0 else 0 ,time + 5)\n",
    "        d = np.random.randint(r+p, r+p+10)\n",
    "        w = np.random.randint(0,10)\n",
    "        time += p\n",
    "        \n",
    "        fileData.append([p,r,d,w])\n",
    "    with open(f'data/instances_{x}.csv', \"w\") as f:\n",
    "        f.write(f\"{str(fileData[0])}\\n\")\n",
    "        for line in fileData[1:]:            \n",
    "            f.write(f\"{' '.join([str(x) for x in line])}\\n\")"
   ]
  },
  {
   "cell_type": "markdown",
   "metadata": {},
   "source": [
    "# Verify"
   ]
  },
  {
   "cell_type": "code",
   "execution_count": 64,
   "metadata": {},
   "outputs": [],
   "source": [
    "x = 50"
   ]
  },
  {
   "cell_type": "code",
   "execution_count": 84,
   "metadata": {},
   "outputs": [],
   "source": [
    "data = {}\n",
    "\n",
    "with open(f'data/result_{x}.csv', \"r\") as result:\n",
    "    res = result.read().split('\\n')\n",
    "    weight = int(res[0])\n",
    "    taskQueue = [int(t) for t in res[1:-1]]\n",
    "    \n",
    "    with open(f'data/instances_{x}.csv', \"r\") as instance:\n",
    "        d = instance.read().split('\\n')\n",
    "        n = int(d[0])\n",
    "        for i,line in enumerate(d[1:]):\n",
    "            if line == '':\n",
    "                continue\n",
    "            p,r,d,w = line.split(' ')\n",
    "            p,r,d,w = int(p), int(r), int(d), int(w)\n",
    "            data[i] = {\"p\": p, \"r\": r, \"d\": d, \"w\": w, \"c\": 0 }\n",
    "    \n",
    "        "
   ]
  },
  {
   "cell_type": "code",
   "execution_count": 85,
   "metadata": {},
   "outputs": [
    {
     "name": "stdout",
     "output_type": "stream",
     "text": [
      "Weight: 93 confirmed\n"
     ]
    }
   ],
   "source": [
    "calculatedWeight = 0\n",
    "time = 0\n",
    "for task in taskQueue:\n",
    "    if time < data[task]['r']:\n",
    "        time = data[task]['r']\n",
    "    # add p time to current time\n",
    "    time += data[task]['p']\n",
    "    c = time\n",
    "    data[task]['c'] = c\n",
    "    \n",
    "    # check correctness\n",
    "    if not data[task][\"r\"] <= data[task][\"c\"] - data[task][\"p\"]: \n",
    "        print(\"Error\")\n",
    "    \n",
    "    # verify cost\n",
    "    if data[task][\"c\"] > data[task][\"d\"]:\n",
    "        calculatedWeight += data[task][\"w\"]\n",
    "if calculatedWeight != weight:\n",
    "    print(f\"wrong weight. Calculated: {calculatedWeight}, read: {weight}\")\n",
    "else:\n",
    "    print(f\"Weight: {calculatedWeight} confirmed\")"
   ]
  },
  {
   "cell_type": "code",
   "execution_count": null,
   "metadata": {},
   "outputs": [],
   "source": []
  },
  {
   "cell_type": "code",
   "execution_count": null,
   "metadata": {},
   "outputs": [],
   "source": []
  },
  {
   "cell_type": "code",
   "execution_count": null,
   "metadata": {},
   "outputs": [],
   "source": []
  },
  {
   "cell_type": "code",
   "execution_count": null,
   "metadata": {},
   "outputs": [],
   "source": []
  },
  {
   "cell_type": "code",
   "execution_count": null,
   "metadata": {},
   "outputs": [],
   "source": []
  },
  {
   "cell_type": "code",
   "execution_count": null,
   "metadata": {},
   "outputs": [],
   "source": []
  },
  {
   "cell_type": "code",
   "execution_count": null,
   "metadata": {},
   "outputs": [],
   "source": []
  },
  {
   "cell_type": "code",
   "execution_count": null,
   "metadata": {},
   "outputs": [],
   "source": []
  },
  {
   "cell_type": "code",
   "execution_count": null,
   "metadata": {},
   "outputs": [],
   "source": []
  },
  {
   "cell_type": "code",
   "execution_count": null,
   "metadata": {},
   "outputs": [],
   "source": []
  }
 ],
 "metadata": {
  "kernelspec": {
   "display_name": "Python 3",
   "language": "python",
   "name": "python3"
  },
  "language_info": {
   "codemirror_mode": {
    "name": "ipython",
    "version": 3
   },
   "file_extension": ".py",
   "mimetype": "text/x-python",
   "name": "python",
   "nbconvert_exporter": "python",
   "pygments_lexer": "ipython3",
   "version": "3.6.9"
  }
 },
 "nbformat": 4,
 "nbformat_minor": 2
}
