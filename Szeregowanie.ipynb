{
 "cells": [
  {
   "cell_type": "code",
   "execution_count": 114,
   "metadata": {},
   "outputs": [],
   "source": [
    "import numpy as np\n",
    "import time"
   ]
  },
  {
   "cell_type": "code",
   "execution_count": 3,
   "metadata": {},
   "outputs": [],
   "source": [
    "nSamples = [50, 100, 150, 200, 250, 300, 350, 400, 450, 500]"
   ]
  },
  {
   "cell_type": "code",
   "execution_count": 4,
   "metadata": {},
   "outputs": [],
   "source": [
    "# p - persistance\n",
    "# r - ready time\n",
    "# d - oczekiwany termin zakończenia\n",
    "# w - weight\n",
    "# Cj oznacza moment zakończenia wykonywania zadania Jj w uszeregowaniu\n",
    "\n",
    "# p r d w\n",
    "# r  >= c - p"
   ]
  },
  {
   "cell_type": "markdown",
   "metadata": {},
   "source": [
    "# Generate"
   ]
  },
  {
   "cell_type": "code",
   "execution_count": 5,
   "metadata": {},
   "outputs": [
    {
     "ename": "NameError",
     "evalue": "name 'n' is not defined",
     "output_type": "error",
     "traceback": [
      "\u001b[0;31m---------------------------------------------------------------------------\u001b[0m",
      "\u001b[0;31mNameError\u001b[0m                                 Traceback (most recent call last)",
      "\u001b[0;32m<ipython-input-5-b23c9009ec34>\u001b[0m in \u001b[0;36m<module>\u001b[0;34m\u001b[0m\n\u001b[0;32m----> 1\u001b[0;31m \u001b[0;32mfor\u001b[0m \u001b[0mx\u001b[0m \u001b[0;32min\u001b[0m \u001b[0mn\u001b[0m\u001b[0;34m:\u001b[0m\u001b[0;34m\u001b[0m\u001b[0;34m\u001b[0m\u001b[0m\n\u001b[0m\u001b[1;32m      2\u001b[0m     \u001b[0mtime\u001b[0m \u001b[0;34m=\u001b[0m \u001b[0;36m0\u001b[0m\u001b[0;34m\u001b[0m\u001b[0;34m\u001b[0m\u001b[0m\n\u001b[1;32m      3\u001b[0m     \u001b[0mfileData\u001b[0m \u001b[0;34m=\u001b[0m \u001b[0;34m[\u001b[0m\u001b[0;34m]\u001b[0m\u001b[0;34m\u001b[0m\u001b[0;34m\u001b[0m\u001b[0m\n\u001b[1;32m      4\u001b[0m     \u001b[0mfileData\u001b[0m\u001b[0;34m.\u001b[0m\u001b[0mappend\u001b[0m\u001b[0;34m(\u001b[0m\u001b[0mx\u001b[0m\u001b[0;34m)\u001b[0m\u001b[0;34m\u001b[0m\u001b[0;34m\u001b[0m\u001b[0m\n\u001b[1;32m      5\u001b[0m     \u001b[0;32mfor\u001b[0m \u001b[0m_\u001b[0m \u001b[0;32min\u001b[0m \u001b[0mrange\u001b[0m\u001b[0;34m(\u001b[0m\u001b[0mx\u001b[0m\u001b[0;34m)\u001b[0m\u001b[0;34m:\u001b[0m\u001b[0;34m\u001b[0m\u001b[0;34m\u001b[0m\u001b[0m\n",
      "\u001b[0;31mNameError\u001b[0m: name 'n' is not defined"
     ]
    }
   ],
   "source": [
    "for x in n:\n",
    "    time = 0\n",
    "    fileData = []\n",
    "    fileData.append(x)\n",
    "    for _ in range(x):\n",
    "        p = np.random.randint(1, 10)\n",
    "        r = np.random.randint(time - 5 if time - 5 > 0 else 0 ,time + 5)\n",
    "        d = np.random.randint(r+p, r+p+10)\n",
    "        w = np.random.randint(0,10)\n",
    "        time += p\n",
    "        \n",
    "        fileData.append([p,r,d,w])\n",
    "    with open(f'data/instances_{x}.csv', \"w\") as f:\n",
    "        f.write(f\"{str(fileData[0])}\\n\")\n",
    "        for line in fileData[1:]:            \n",
    "            f.write(f\"{' '.join([str(x) for x in line])}\\n\")"
   ]
  },
  {
   "cell_type": "markdown",
   "metadata": {},
   "source": [
    "# Verify"
   ]
  },
  {
   "cell_type": "code",
   "execution_count": 64,
   "metadata": {},
   "outputs": [],
   "source": [
    "x = 50"
   ]
  },
  {
   "cell_type": "code",
   "execution_count": 129,
   "metadata": {},
   "outputs": [
    {
     "name": "stdout",
     "output_type": "stream",
     "text": [
      "82\n",
      "220\n",
      "419\n",
      "426\n",
      "561\n",
      "680\n",
      "806\n",
      "976\n",
      "1174\n",
      "1180\n",
      "97\n",
      "423\n",
      "1014\n",
      "1901\n",
      "2783\n",
      "4170\n",
      "5853\n",
      "8048\n",
      "10243\n",
      "11948\n",
      "217\n",
      "927\n",
      "2201\n",
      "3849\n",
      "5803\n",
      "8861\n",
      "11955\n",
      "16431\n",
      "20297\n",
      "24872\n",
      "242\n",
      "533\n",
      "842\n",
      "1148\n",
      "1363\n",
      "1653\n",
      "1857\n",
      "2187\n",
      "2494\n",
      "2792\n",
      "0\n",
      "38\n",
      "774\n",
      "1530\n",
      "2075\n",
      "2555\n",
      "3086\n",
      "3690\n",
      "4208\n",
      "4967\n",
      "86\n",
      "416\n",
      "1076\n",
      "2056\n",
      "2915\n",
      "4016\n",
      "5977\n",
      "7528\n",
      "10473\n",
      "12042\n",
      "163\n",
      "605\n",
      "1263\n",
      "2130\n",
      "3455\n",
      "4813\n",
      "6397\n",
      "7732\n",
      "10208\n",
      "13372\n",
      "245\n",
      "491\n",
      "755\n",
      "1039\n",
      "1265\n",
      "1539\n",
      "1723\n",
      "2054\n",
      "2241\n",
      "2468\n",
      "88\n",
      "145\n",
      "287\n",
      "331\n",
      "546\n",
      "566\n",
      "556\n",
      "869\n",
      "734\n",
      "1007\n",
      "244\n",
      "510\n",
      "717\n",
      "929\n",
      "1192\n",
      "1522\n",
      "1713\n",
      "2061\n",
      "2187\n",
      "2420\n",
      "937\n",
      "1653\n",
      "2726\n",
      "4038\n",
      "4789\n",
      "5451\n",
      "6544\n",
      "7496\n",
      "8785\n",
      "10634\n",
      "0\n",
      "0\n",
      "0\n",
      "0\n",
      "0\n",
      "0\n",
      "0\n",
      "0\n",
      "0\n",
      "0\n",
      "1902\n",
      "3887\n",
      "5872\n",
      "7894\n",
      "9772\n",
      "12017\n",
      "13899\n",
      "15638\n",
      "17991\n",
      "19600\n",
      "189\n",
      "341\n",
      "1066\n",
      "1326\n",
      "1776\n",
      "2056\n",
      "3611\n",
      "4056\n",
      "4708\n",
      "5191\n"
     ]
    }
   ],
   "source": [
    "motherFolder = \"out\" # \"PTSZ-instancje\"\n",
    "data = {}\n",
    "indicies = [\"136805\", \"136792\", \"136683\", \"132231\", \"136730\", \"136682\", \"136764\", \"136782\", \"136723\", \"136778\", \"136309\", \"136718\", \"136315\", \"136759\"]\n",
    "for index  in indicies:\n",
    "#    print(index)\n",
    "    for samples in nSamples:\n",
    "        with open(f'{motherFolder}/{index}/out{index}_{samples}.txt', \"r\") as result:\n",
    "            res = result.read().split('\\n')\n",
    "            weight = int(res[0])\n",
    "            gen = (t for t in res[1].split(\" \") if t.isdigit())\n",
    "            taskQueue = [int(t) for t in gen]\n",
    "\n",
    "        with open(f'PTSZ-instancje/{index}/in{index}_{samples}.txt', \"r\") as instance:\n",
    "            d = instance.read().split('\\n')\n",
    "            n = int(d[0])                \n",
    "            for i,line in enumerate(d[1:]):\n",
    "                if line == '':\n",
    "                    continue\n",
    "                p,r,d,w = line.split(' ')\n",
    "                p,r,d,w = int(p), int(r), int(d), int(w)\n",
    "                data[i+1] = {\"p\": p, \"r\": r, \"d\": d, \"w\": w, \"c\": 0 }\n",
    "                    \n",
    "        calculatedWeight = 0\n",
    "        timeCounter = 0\n",
    "        for task in taskQueue:\n",
    "            if timeCounter < data[task]['r']:\n",
    "                timeCounter = data[task]['r']\n",
    "            # add p time to current time\n",
    "            timeCounter += data[task]['p']\n",
    "            c = timeCounter\n",
    "            data[task]['c'] = c\n",
    "\n",
    "            # check correctness\n",
    "            if not data[task][\"r\"] <= data[task][\"c\"] - data[task][\"p\"]: \n",
    "                print(\"Error\")\n",
    "\n",
    "            # verify cost\n",
    "            if data[task][\"c\"] > data[task][\"d\"]:\n",
    "                calculatedWeight += data[task][\"w\"]\n",
    "        print(calculatedWeight)\n",
    "        #if calculatedWeight != weight:\n",
    "        #    print(f\"wrong weight. Calculated: {calculatedWeight}, read: {weight}\")\n",
    "        #else:\n",
    "        #    print(f\"Weight: {calculatedWeight} confirmed\")\n",
    "    #print()\n",
    "    #print()\n",
    "        \n",
    "        "
   ]
  },
  {
   "cell_type": "code",
   "execution_count": null,
   "metadata": {},
   "outputs": [],
   "source": [
    "# p - persistance\n",
    "# r - ready time\n",
    "# d - oczekiwany termin zakończenia\n",
    "# w - weight\n",
    "# Cj oznacza moment zakończenia wykonywania zadania Jj w uszeregowaniu\n",
    "\n",
    "# p r d w\n",
    "# r  >= c - p"
   ]
  },
  {
   "cell_type": "markdown",
   "metadata": {},
   "source": [
    "# TaskScheduler"
   ]
  },
  {
   "cell_type": "code",
   "execution_count": 128,
   "metadata": {},
   "outputs": [],
   "source": [
    "data = {}\n",
    "indicies = [\"136805\", \"136792\", \"136683\", \"132231\", \"136730\", \"136682\", \"136764\", \"136782\", \"136723\", \"136778\", \"136309\", \"136718\", \"136315\", \"136759\"]\n",
    "for index  in indicies:\n",
    "    for samples in nSamples:\n",
    "        with open(f'PTSZ-instancje/{index}/in{index}_{samples}.txt', \"r\") as instance:\n",
    "            d = instance.read().split('\\n')\n",
    "            n = int(d[0])                \n",
    "            for i,line in enumerate(d[1:]):\n",
    "                if line == '':\n",
    "                    continue\n",
    "                p,r,d,w = line.split(' ')\n",
    "                p,r,d,w = int(p), int(r), int(d), int(w)\n",
    "                data[i+1] = {\"p\": p, \"r\": r, \"d\": d, \"w\": w, \"c\": 0, \"penalty\": 0 }\n",
    "                    \n",
    "        calculatedWeight = 0\n",
    "        timeCounter = 0\n",
    "        outSchedule = []\n",
    "        \n",
    "        start = time.time()\n",
    "        while len(data) > 0:\n",
    "            readyToGo = {}\n",
    "            for key, task in data.items():\n",
    "                if task['r'] <= timeCounter: # add penalty ( (timeCounter+p-d)*w )\n",
    "                    endTime = timeCounter+task['p']-task['d']\n",
    "                    task['penalty'] = ( endTime if endTime > 0 else 0 ) * task['w']\n",
    "                    readyToGo[key] = task\n",
    "                \n",
    "            if len(readyToGo) == 0: # currently there is no task to go\n",
    "                #print(\"upsi\")\n",
    "                timeCounter += 1\n",
    "                continue\n",
    "            #print(f\"readyToGo: {readyToGo}\")\n",
    "\n",
    "            readyToGoSorted = sorted(readyToGo.items(), key=lambda y: (y[1]['penalty'], y[1]['w']), reverse=True)\n",
    "            selectedTask = readyToGoSorted.pop(0)\n",
    "            #print(timeCounter)\n",
    "            #print(f\"selectedTask: {selectedTask}\")\n",
    "\n",
    "            data.pop(selectedTask[0])\n",
    "            timeCounter += selectedTask[1]['p']\n",
    "            outSchedule.append(selectedTask[0])    \n",
    "        \n",
    "        end = time.time()\n",
    "        #print(end-start)\n",
    "        with open(f'out/{index}/out{index}_{samples}.txt', \"w\") as f:\n",
    "            f.write(f\"{samples}\\n\")         \n",
    "                #f.write(f\"{' '.join([str(x) for x in line])}\\n\")\n",
    "            f.write(f\"{' '.join([str(x) for x in outSchedule])}\\n\")\n",
    "        \n",
    "    "
   ]
  },
  {
   "cell_type": "code",
   "execution_count": null,
   "metadata": {},
   "outputs": [],
   "source": []
  },
  {
   "cell_type": "code",
   "execution_count": null,
   "metadata": {},
   "outputs": [],
   "source": []
  },
  {
   "cell_type": "code",
   "execution_count": 62,
   "metadata": {},
   "outputs": [
    {
     "data": {
      "text/plain": [
       "1"
      ]
     },
     "execution_count": 62,
     "metadata": {},
     "output_type": "execute_result"
    }
   ],
   "source": [
    " sorted(readyToGo.items(), key=lambda y: (y[1]['penalty'], y[1]['d']), reverse=True).pop(0)[0]"
   ]
  },
  {
   "cell_type": "code",
   "execution_count": 102,
   "metadata": {},
   "outputs": [],
   "source": [
    "for dirc in indicies:\n",
    "    try:\n",
    "        os.mkdir(f\"out/{dirc}\")\n",
    "    except:\n",
    "        pass"
   ]
  },
  {
   "cell_type": "code",
   "execution_count": 56,
   "metadata": {},
   "outputs": [
    {
     "data": {
      "text/plain": [
       "dict_items([(1, {'p': 7, 'r': 1, 'd': 17, 'w': 9, 'c': 0, 'penalty': 45}), (2, {'p': 9, 'r': 7, 'd': 23, 'w': 3, 'c': 0, 'penalty': 3}), (23, {'p': 4, 'r': 4, 'd': 15, 'w': 1, 'c': 0, 'penalty': 4})])"
      ]
     },
     "execution_count": 56,
     "metadata": {},
     "output_type": "execute_result"
    }
   ],
   "source": [
    "readyToGo.items()"
   ]
  },
  {
   "cell_type": "code",
   "execution_count": null,
   "metadata": {},
   "outputs": [],
   "source": []
  },
  {
   "cell_type": "code",
   "execution_count": 9,
   "metadata": {},
   "outputs": [
    {
     "name": "stdout",
     "output_type": "stream",
     "text": [
      "Weight: 0 confirmed\n"
     ]
    }
   ],
   "source": [
    "calculatedWeight = 0\n",
    "time = 0\n",
    "for task in taskQueue:\n",
    "    if time < data[task]['r']:\n",
    "        time = data[task]['r']\n",
    "    # add p time to current time\n",
    "    time += data[task]['p']\n",
    "    c = time\n",
    "    data[task]['c'] = c\n",
    "    \n",
    "    # check correctness\n",
    "    if not data[task][\"r\"] <= data[task][\"c\"] - data[task][\"p\"]: \n",
    "        print(\"Error\")\n",
    "    \n",
    "    # verify cost\n",
    "    if data[task][\"c\"] > data[task][\"d\"]:\n",
    "        calculatedWeight += data[task][\"w\"]\n",
    "if calculatedWeight != weight:\n",
    "    print(f\"wrong weight. Calculated: {calculatedWeight}, read: {weight}\")\n",
    "else:\n",
    "    print(f\"Weight: {calculatedWeight} confirmed\")"
   ]
  },
  {
   "cell_type": "code",
   "execution_count": null,
   "metadata": {},
   "outputs": [],
   "source": []
  },
  {
   "cell_type": "code",
   "execution_count": null,
   "metadata": {},
   "outputs": [],
   "source": []
  },
  {
   "cell_type": "code",
   "execution_count": null,
   "metadata": {},
   "outputs": [],
   "source": []
  },
  {
   "cell_type": "code",
   "execution_count": null,
   "metadata": {},
   "outputs": [],
   "source": []
  },
  {
   "cell_type": "code",
   "execution_count": null,
   "metadata": {},
   "outputs": [],
   "source": []
  },
  {
   "cell_type": "code",
   "execution_count": null,
   "metadata": {},
   "outputs": [],
   "source": []
  },
  {
   "cell_type": "code",
   "execution_count": null,
   "metadata": {},
   "outputs": [],
   "source": []
  },
  {
   "cell_type": "code",
   "execution_count": null,
   "metadata": {},
   "outputs": [],
   "source": []
  },
  {
   "cell_type": "code",
   "execution_count": null,
   "metadata": {},
   "outputs": [],
   "source": []
  },
  {
   "cell_type": "code",
   "execution_count": null,
   "metadata": {},
   "outputs": [],
   "source": []
  }
 ],
 "metadata": {
  "kernelspec": {
   "display_name": "Python 3",
   "language": "python",
   "name": "python3"
  },
  "language_info": {
   "codemirror_mode": {
    "name": "ipython",
    "version": 3
   },
   "file_extension": ".py",
   "mimetype": "text/x-python",
   "name": "python",
   "nbconvert_exporter": "python",
   "pygments_lexer": "ipython3",
   "version": "3.6.9"
  }
 },
 "nbformat": 4,
 "nbformat_minor": 2
}
